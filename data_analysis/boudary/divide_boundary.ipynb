{
 "cells": [
  {
   "cell_type": "code",
   "execution_count": 1,
   "metadata": {},
   "outputs": [],
   "source": [
    "import pandas as pd\n",
    "from pandas import DataFrame\n",
    "import folium\n",
    "import queue\n",
    "import time\n",
    "\n",
    "taxi_on_data = pd.read_csv(\"C:/Users/황지현/Desktop/빅데이터 공모전/택시데이터정제/total_taxi_cluster.csv\")\n",
    "taxi_off_data = pd.read_csv(\"C:/Users/황지현/Desktop/빅데이터 공모전/택시데이터정제/total_off_taxi_cluster.csv\")\n",
    "subway_on_data = pd.read_csv(\"C:/Users/황지현/Desktop/빅데이터 공모전/택시데이터정제/subway_on_cluster.csv\")\n",
    "subway_off_data = pd.read_csv(\"C:/Users/황지현/Desktop/빅데이터 공모전/택시데이터정제/subway_off_cluster.csv\")\n",
    "bus_data = pd.read_csv(\"C:/Users/황지현/Desktop/빅데이터 공모전/택시데이터정제/bus_cluster.csv\")"
   ]
  },
  {
   "cell_type": "code",
   "execution_count": 2,
   "metadata": {},
   "outputs": [],
   "source": [
    "data = {'lat':[], 'lon':[], 'value':[]}\n",
    "taxi_weight = 0.7\n",
    "bus_weight = 0.2\n",
    "subway_weight = 0.1\n",
    "\n",
    "for i, row in taxi_on_data.iterrows():\n",
    "    value = 0\n",
    "    \n",
    "    if 35.8381<=row['lat']<=35.8981 and 128.5251<=row['lon']<=128.6151:\n",
    "        value = value + row['value']*taxi_weight*0.7\n",
    "        value = value + taxi_off_data.loc[i,'value']*taxi_weight*0.3\n",
    "        value = value + subway_on_data.loc[i,'value']*subway_weight*0.7\n",
    "        value = value + subway_off_data.loc[i,'value']*subway_weight*0.3\n",
    "        value = value + bus_data.loc[i,'value']*bus_weight\n",
    "    \n",
    "    elif 35.8181<=row['lat']<=35.9081 and 128.4851<=row['lon']<=128.6351:\n",
    "        value = value + row['value']*taxi_weight*0.5\n",
    "        value = value + taxi_off_data.loc[i,'value']*taxi_weight*0.5\n",
    "        value = value + subway_on_data.loc[i,'value']*subway_weight*0.5\n",
    "        value = value + subway_off_data.loc[i,'value']*subway_weight*0.5\n",
    "        value = value + bus_data.loc[i,'value']*bus_weight\n",
    "    \n",
    "    else:\n",
    "        value = value + row['value']*taxi_weight*0.3\n",
    "        value = value + taxi_off_data.loc[i,'value']*taxi_weight*0.7\n",
    "        value = value + subway_on_data.loc[i,'value']*subway_weight*0.3\n",
    "        value = value + subway_off_data.loc[i,'value']*subway_weight*0.7\n",
    "        value = value + bus_data.loc[i,'value']*bus_weight\n",
    "    \n",
    "    data['lat'].append(row['lat'])\n",
    "    data['lon'].append(row['lon'])\n",
    "    data['value'].append(value)"
   ]
  },
  {
   "cell_type": "code",
   "execution_count": 3,
   "metadata": {},
   "outputs": [],
   "source": [
    "data_df = DataFrame(data)"
   ]
  },
  {
   "cell_type": "code",
   "execution_count": 4,
   "metadata": {},
   "outputs": [],
   "source": [
    "data_df.to_csv(\"C:/Users/황지현/Desktop/빅데이터 공모전/택시데이터정제/sum_cluster.csv\", sep=',', na_rep='NaN')"
   ]
  }
 ],
 "metadata": {
  "kernelspec": {
   "display_name": "Python 3",
   "language": "python",
   "name": "python3"
  },
  "language_info": {
   "codemirror_mode": {
    "name": "ipython",
    "version": 3
   },
   "file_extension": ".py",
   "mimetype": "text/x-python",
   "name": "python",
   "nbconvert_exporter": "python",
   "pygments_lexer": "ipython3",
   "version": "3.7.6"
  }
 },
 "nbformat": 4,
 "nbformat_minor": 4
}
