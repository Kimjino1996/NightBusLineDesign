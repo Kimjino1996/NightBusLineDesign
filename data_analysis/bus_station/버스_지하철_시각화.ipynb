{
 "cells": [
  {
   "cell_type": "code",
   "execution_count": 1,
   "metadata": {},
   "outputs": [],
   "source": [
    "import folium\n",
    "import pandas as pd\n",
    "import matplotlib.pyplot as plt"
   ]
  },
  {
   "cell_type": "code",
   "execution_count": 2,
   "metadata": {},
   "outputs": [],
   "source": [
    "RADIUS = 1\n",
    "\n",
    "\n",
    "                                  # 색 나누는 기준 값을 다시 정해야 함\n",
    "    \n",
    "    \n",
    "def add_to_map_bus(df_x):\n",
    "    \n",
    "    for item in df_x.index:\n",
    "        lat = df_x.loc[item,'lat']\n",
    "        lng = df_x.loc[item,'lng']\n",
    "        if df_x.loc[item,'total'] >50000:\n",
    "            folium.CircleMarker([lat,lng], popup=df_x.loc[item,'name'],radius=RADIUS,color='darkred').add_to(map_osm)\n",
    "        elif df_x.loc[item,'total'] >10000:\n",
    "            folium.CircleMarker([lat,lng], popup=df_x.loc[item,'name'],radius=RADIUS,color='red').add_to(map_osm)\n",
    "        elif df_x.loc[item,'total'] >5000:\n",
    "            folium.CircleMarker([lat,lng], popup=df_x.loc[item,'name'],radius=RADIUS,color='lightred').add_to(map_osm)\n",
    "        elif df_x.loc[item,'total'] >1000:\n",
    "            folium.CircleMarker([lat,lng], popup=df_x.loc[item,'name'],radius=RADIUS,color='orange').add_to(map_osm)\n",
    "        elif df_x.loc[item,'total'] >500:\n",
    "            folium.CircleMarker([lat,lng], popup=df_x.loc[item,'name'],radius=RADIUS,color='green').add_to(map_osm)\n",
    "        else:\n",
    "            folium.CircleMarker([lat,lng], popup=df_x.loc[item,'name'],radius=RADIUS,color='blue').add_to(map_osm)\n",
    "            \n",
    "            \n",
    "\n",
    "def add_to_map_station(df_x):\n",
    "    \n",
    "    for item in df_x.index:\n",
    "        lat = df_x.loc[item,'lat']\n",
    "        lng = df_x.loc[item,'lng']\n",
    "        if df_x.loc[item,'total'] >50000:\n",
    "            folium.CircleMarker([lat,lng], popup=df_x.loc[item,'name'],radius=RADIUS,color='darkred').add_to(map_osm)\n",
    "        elif df_x.loc[item,'total'] >10000:\n",
    "            folium.CircleMarker([lat,lng], popup=df_x.loc[item,'name'],radius=RADIUS,color='red').add_to(map_osm)\n",
    "        elif df_x.loc[item,'total'] >5000:\n",
    "            folium.CircleMarker([lat,lng], popup=df_x.loc[item,'name'],radius=RADIUS,color='lightred').add_to(map_osm)\n",
    "        elif df_x.loc[item,'total'] >1000:\n",
    "            folium.CircleMarker([lat,lng], popup=df_x.loc[item,'name'],radius=RADIUS,color='orange').add_to(map_osm)\n",
    "        elif df_x.loc[item,'total'] >500:\n",
    "            folium.CircleMarker([lat,lng], popup=df_x.loc[item,'name'],radius=RADIUS,color='green').add_to(map_osm)\n",
    "        else:\n",
    "            folium.CircleMarker([lat,lng], popup=df_x.loc[item,'name'],radius=RADIUS,color='blue').add_to(map_osm)\n",
    "\n"
   ]
  },
  {
   "cell_type": "code",
   "execution_count": 3,
   "metadata": {},
   "outputs": [],
   "source": [
    "bus_on = pd.read_csv('버스_승차.csv',encoding='cp949')\n",
    "bus_off = pd.read_csv('버스_하차.csv',encoding='cp949')\n",
    "station_on = pd.read_csv('지하철_승차.csv',encoding='cp949')\n",
    "station_off = pd.read_csv('지하철_하차.csv',encoding='cp949')"
   ]
  },
  {
   "cell_type": "code",
   "execution_count": 4,
   "metadata": {},
   "outputs": [],
   "source": [
    "map_osm = folium.Map(location=[35.8796687,128.4266147], zoom_start=13)"
   ]
  },
  {
   "cell_type": "code",
   "execution_count": 5,
   "metadata": {},
   "outputs": [],
   "source": [
    "bus_on = bus_on.dropna()\n",
    "bus_off = bus_off.dropna()\n",
    "station_on = bus_off.dropna()\n",
    "station_off = bus_off.dropna()"
   ]
  },
  {
   "cell_type": "code",
   "execution_count": 6,
   "metadata": {
    "scrolled": false
   },
   "outputs": [],
   "source": [
    "add_to_map_bus(bus_on)\n",
    "add_to_map_bus(bus_off)\n",
    "add_to_map_station(station_on)\n",
    "add_to_map_station(station_off)\n",
    "\n",
    "map_osm.save('map.html')"
   ]
  }
 ],
 "metadata": {
  "kernelspec": {
   "display_name": "Python 3",
   "language": "python",
   "name": "python3"
  },
  "language_info": {
   "codemirror_mode": {
    "name": "ipython",
    "version": 3
   },
   "file_extension": ".py",
   "mimetype": "text/x-python",
   "name": "python",
   "nbconvert_exporter": "python",
   "pygments_lexer": "ipython3",
   "version": "3.7.4"
  }
 },
 "nbformat": 4,
 "nbformat_minor": 2
}
