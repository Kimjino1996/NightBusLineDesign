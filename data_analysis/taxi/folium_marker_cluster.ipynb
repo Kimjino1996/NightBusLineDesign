{
 "cells": [
  {
   "cell_type": "code",
   "execution_count": 5,
   "metadata": {},
   "outputs": [],
   "source": [
    "import folium\n",
    "from pandas import DataFrame\n",
    "from pandas import ExcelFile\n",
    "import csv"
   ]
  },
  {
   "cell_type": "code",
   "execution_count": 6,
   "metadata": {},
   "outputs": [],
   "source": [
    "import folium\n",
    "from folium.plugins import MarkerCluster\n",
    "map_osm = folium.Map(location=[35.8796687,128.4266147], zoom_start=13)\n",
    "marker_cluster = MarkerCluster().add_to(map_osm)\n"
   ]
  },
  {
   "cell_type": "code",
   "execution_count": 7,
   "metadata": {},
   "outputs": [
    {
     "name": "stdout",
     "output_type": "stream",
     "text": [
      "['START_X', 'START_', 'ARRIVE_X', 'ARRIVE_']\n",
      "10000 ....760000\n",
      "20000 ....760000\n",
      "30000 ....760000\n",
      "40000 ....760000\n",
      "50000 ....760000\n",
      "60000 ....760000\n",
      "70000 ....760000\n",
      "done\n"
     ]
    }
   ],
   "source": [
    "read_csv_file = open(\"./refined_taxi7.csv\", 'r')\n",
    "read_file = csv.reader(read_csv_file)\n",
    "\n",
    "count = 0\n",
    "for line in read_file:\n",
    "    count = count + 1\n",
    "    if count == 1:\n",
    "        continue\n",
    "    \n",
    "    try:\n",
    "        folium.CircleMarker([float(line[0]),float(line[1])],\n",
    "                           radius=1,\n",
    "                           color='red',\n",
    "                           fill=True).add_to(map_osm)\n",
    "        folium.CircleMarker([float(line[0]),float(line[1])], radius=1, color='blue', fill=True).add_to(\n",
    "        marker_cluster)\n",
    "    except:\n",
    "        print(line)\n",
    "    \n",
    "    if count%10000 == 0:\n",
    "        print(count, \"....760000\")\n",
    "\n",
    "print(\"done\")"
   ]
  },
  {
   "cell_type": "code",
   "execution_count": 8,
   "metadata": {},
   "outputs": [],
   "source": [
    "map_osm.save('map.html')"
   ]
  },
  {
   "cell_type": "code",
   "execution_count": null,
   "metadata": {},
   "outputs": [],
   "source": []
  },
  {
   "cell_type": "code",
   "execution_count": null,
   "metadata": {},
   "outputs": [],
   "source": []
  },
  {
   "cell_type": "code",
   "execution_count": null,
   "metadata": {},
   "outputs": [],
   "source": []
  }
 ],
 "metadata": {
  "kernelspec": {
   "display_name": "Python 3",
   "language": "python",
   "name": "python3"
  },
  "language_info": {
   "codemirror_mode": {
    "name": "ipython",
    "version": 3
   },
   "file_extension": ".py",
   "mimetype": "text/x-python",
   "name": "python",
   "nbconvert_exporter": "python",
   "pygments_lexer": "ipython3",
   "version": "3.8.3"
  }
 },
 "nbformat": 4,
 "nbformat_minor": 4
}
